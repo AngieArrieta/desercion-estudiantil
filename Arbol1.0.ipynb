{
 "cells": [
  {
   "cell_type": "markdown",
   "metadata": {},
   "source": [
    "Imports necesarios"
   ]
  },
  {
   "cell_type": "code",
   "execution_count": 11,
   "metadata": {},
   "outputs": [],
   "source": [
    "\n",
    "import numpy as np\n",
    "import pandas as pd\n",
    "import seaborn as sb\n",
    "import matplotlib.pyplot as plt\n",
    "%matplotlib inline\n",
    "plt.rcParams['figure.figsize'] = (16, 9)\n",
    "plt.style.use('ggplot')\n",
    "from sklearn import tree\n",
    "from sklearn.metrics import confusion_matrix\n",
    "from sklearn.model_selection import KFold\n",
    "from sklearn.model_selection import cross_val_score\n",
    "from IPython.display import Image as PImage\n",
    "from subprocess import check_call\n",
    "from PIL import Image, ImageDraw, ImageFont\n"
   ]
  },
  {
   "cell_type": "markdown",
   "metadata": {},
   "source": [
    "#leer csv's\n"
   ]
  },
  {
   "cell_type": "code",
   "execution_count": 17,
   "metadata": {},
   "outputs": [
    {
     "data": {
      "text/plain": [
       "'C:\\\\'"
      ]
     },
     "execution_count": 17,
     "metadata": {},
     "output_type": "execute_result"
    }
   ],
   "source": [
    "pwd"
   ]
  },
  {
   "cell_type": "code",
   "execution_count": 18,
   "metadata": {},
   "outputs": [
    {
     "name": "stdout",
     "output_type": "stream",
     "text": [
      "C:\\\n"
     ]
    }
   ],
   "source": [
    "cd .."
   ]
  },
  {
   "cell_type": "code",
   "execution_count": 19,
   "metadata": {},
   "outputs": [
    {
     "name": "stdout",
     "output_type": "stream",
     "text": [
      "E:\\universidad\\##proyecto semillero\\TODOS DATOS\\cleaned_data\n"
     ]
    }
   ],
   "source": [
    "cd E:\\universidad\\##proyecto semillero\\TODOS DATOS\\cleaned_data"
   ]
  },
  {
   "cell_type": "code",
   "execution_count": 20,
   "metadata": {},
   "outputs": [
    {
     "data": {
      "text/html": [
       "<div>\n",
       "<style scoped>\n",
       "    .dataframe tbody tr th:only-of-type {\n",
       "        vertical-align: middle;\n",
       "    }\n",
       "\n",
       "    .dataframe tbody tr th {\n",
       "        vertical-align: top;\n",
       "    }\n",
       "\n",
       "    .dataframe thead th {\n",
       "        text-align: right;\n",
       "    }\n",
       "</style>\n",
       "<table border=\"1\" class=\"dataframe\">\n",
       "  <thead>\n",
       "    <tr style=\"text-align: right;\">\n",
       "      <th></th>\n",
       "      <th>TIPOINGRESO</th>\n",
       "      <th>GENERO</th>\n",
       "      <th>SEMESTRE</th>\n",
       "      <th>ICFES_PUNTAJE</th>\n",
       "      <th>ICFES_TIPO</th>\n",
       "      <th>DESERTOR</th>\n",
       "      <th>CIUDAD</th>\n",
       "      <th>ESTRATO_new</th>\n",
       "    </tr>\n",
       "  </thead>\n",
       "  <tbody>\n",
       "    <tr>\n",
       "      <td>0</td>\n",
       "      <td>1.0</td>\n",
       "      <td>0.0</td>\n",
       "      <td>8.0</td>\n",
       "      <td>206.0</td>\n",
       "      <td>4</td>\n",
       "      <td>1</td>\n",
       "      <td>0.0</td>\n",
       "      <td>3.0</td>\n",
       "    </tr>\n",
       "    <tr>\n",
       "      <td>1</td>\n",
       "      <td>3.0</td>\n",
       "      <td>0.0</td>\n",
       "      <td>2.0</td>\n",
       "      <td>963.0</td>\n",
       "      <td>4</td>\n",
       "      <td>1</td>\n",
       "      <td>0.0</td>\n",
       "      <td>1.0</td>\n",
       "    </tr>\n",
       "    <tr>\n",
       "      <td>2</td>\n",
       "      <td>1.0</td>\n",
       "      <td>1.0</td>\n",
       "      <td>9.0</td>\n",
       "      <td>215.0</td>\n",
       "      <td>1</td>\n",
       "      <td>1</td>\n",
       "      <td>0.0</td>\n",
       "      <td>1.0</td>\n",
       "    </tr>\n",
       "    <tr>\n",
       "      <td>3</td>\n",
       "      <td>1.0</td>\n",
       "      <td>1.0</td>\n",
       "      <td>2.0</td>\n",
       "      <td>817.0</td>\n",
       "      <td>4</td>\n",
       "      <td>1</td>\n",
       "      <td>0.0</td>\n",
       "      <td>1.0</td>\n",
       "    </tr>\n",
       "    <tr>\n",
       "      <td>4</td>\n",
       "      <td>4.0</td>\n",
       "      <td>1.0</td>\n",
       "      <td>3.0</td>\n",
       "      <td>98.0</td>\n",
       "      <td>4</td>\n",
       "      <td>1</td>\n",
       "      <td>0.0</td>\n",
       "      <td>2.0</td>\n",
       "    </tr>\n",
       "    <tr>\n",
       "      <td>...</td>\n",
       "      <td>...</td>\n",
       "      <td>...</td>\n",
       "      <td>...</td>\n",
       "      <td>...</td>\n",
       "      <td>...</td>\n",
       "      <td>...</td>\n",
       "      <td>...</td>\n",
       "      <td>...</td>\n",
       "    </tr>\n",
       "    <tr>\n",
       "      <td>254</td>\n",
       "      <td>3.0</td>\n",
       "      <td>1.0</td>\n",
       "      <td>7.0</td>\n",
       "      <td>0.0</td>\n",
       "      <td>4</td>\n",
       "      <td>0</td>\n",
       "      <td>0.0</td>\n",
       "      <td>1.0</td>\n",
       "    </tr>\n",
       "    <tr>\n",
       "      <td>255</td>\n",
       "      <td>1.0</td>\n",
       "      <td>1.0</td>\n",
       "      <td>6.0</td>\n",
       "      <td>0.0</td>\n",
       "      <td>4</td>\n",
       "      <td>0</td>\n",
       "      <td>0.0</td>\n",
       "      <td>2.0</td>\n",
       "    </tr>\n",
       "    <tr>\n",
       "      <td>256</td>\n",
       "      <td>1.0</td>\n",
       "      <td>1.0</td>\n",
       "      <td>5.0</td>\n",
       "      <td>0.0</td>\n",
       "      <td>4</td>\n",
       "      <td>0</td>\n",
       "      <td>1.0</td>\n",
       "      <td>2.0</td>\n",
       "    </tr>\n",
       "    <tr>\n",
       "      <td>257</td>\n",
       "      <td>1.0</td>\n",
       "      <td>1.0</td>\n",
       "      <td>4.0</td>\n",
       "      <td>0.0</td>\n",
       "      <td>4</td>\n",
       "      <td>0</td>\n",
       "      <td>0.0</td>\n",
       "      <td>2.0</td>\n",
       "    </tr>\n",
       "    <tr>\n",
       "      <td>258</td>\n",
       "      <td>1.0</td>\n",
       "      <td>1.0</td>\n",
       "      <td>3.0</td>\n",
       "      <td>0.0</td>\n",
       "      <td>4</td>\n",
       "      <td>0</td>\n",
       "      <td>0.0</td>\n",
       "      <td>1.0</td>\n",
       "    </tr>\n",
       "  </tbody>\n",
       "</table>\n",
       "<p>259 rows × 8 columns</p>\n",
       "</div>"
      ],
      "text/plain": [
       "     TIPOINGRESO  GENERO  SEMESTRE  ICFES_PUNTAJE  ICFES_TIPO  DESERTOR  \\\n",
       "0            1.0     0.0       8.0          206.0           4         1   \n",
       "1            3.0     0.0       2.0          963.0           4         1   \n",
       "2            1.0     1.0       9.0          215.0           1         1   \n",
       "3            1.0     1.0       2.0          817.0           4         1   \n",
       "4            4.0     1.0       3.0           98.0           4         1   \n",
       "..           ...     ...       ...            ...         ...       ...   \n",
       "254          3.0     1.0       7.0            0.0           4         0   \n",
       "255          1.0     1.0       6.0            0.0           4         0   \n",
       "256          1.0     1.0       5.0            0.0           4         0   \n",
       "257          1.0     1.0       4.0            0.0           4         0   \n",
       "258          1.0     1.0       3.0            0.0           4         0   \n",
       "\n",
       "     CIUDAD  ESTRATO_new  \n",
       "0       0.0          3.0  \n",
       "1       0.0          1.0  \n",
       "2       0.0          1.0  \n",
       "3       0.0          1.0  \n",
       "4       0.0          2.0  \n",
       "..      ...          ...  \n",
       "254     0.0          1.0  \n",
       "255     0.0          2.0  \n",
       "256     1.0          2.0  \n",
       "257     0.0          2.0  \n",
       "258     0.0          1.0  \n",
       "\n",
       "[259 rows x 8 columns]"
      ]
     },
     "execution_count": 20,
     "metadata": {},
     "output_type": "execute_result"
    }
   ],
   "source": [
    "data = pd.read_csv('Registro1402CLEANED.csv')\n",
    "data"
   ]
  },
  {
   "cell_type": "code",
   "execution_count": 21,
   "metadata": {},
   "outputs": [
    {
     "data": {
      "text/plain": [
       "(259, 8)"
      ]
     },
     "execution_count": 21,
     "metadata": {},
     "output_type": "execute_result"
    }
   ],
   "source": [
    "data.shape"
   ]
  },
  {
   "cell_type": "code",
   "execution_count": 22,
   "metadata": {},
   "outputs": [
    {
     "data": {
      "text/plain": [
       "DESERTOR\n",
       "0    226\n",
       "1     33\n",
       "dtype: int64"
      ]
     },
     "execution_count": 22,
     "metadata": {},
     "output_type": "execute_result"
    }
   ],
   "source": [
    "data.groupby('DESERTOR').size()"
   ]
  },
  {
   "cell_type": "code",
   "execution_count": 23,
   "metadata": {},
   "outputs": [
    {
     "data": {
      "image/png": "[encoded data removed]",
      "text/plain": [
       "<Figure size 864x864 with 2 Axes>"
      ]
     },
     "metadata": {},
     "output_type": "display_data"
    }
   ],
   "source": [
    "#variables relevantes\n",
    "\n",
    "colormap = plt.cm.viridis\n",
    "plt.figure(figsize=(12,12))\n",
    "plt.title('Pearson Correlation of Features', y=1.05, size=15)\n",
    "sb.heatmap(data.astype(float).corr(),linewidths=0.1,vmax=1.0, square=True, cmap=colormap, linecolor='white', annot=True)\n",
    "plt.show()"
   ]
  },
  {
   "cell_type": "code",
   "execution_count": 24,
   "metadata": {},
   "outputs": [
    {
     "name": "stdout",
     "output_type": "stream",
     "text": [
      " Max Depth  Average Accuracy\n",
      "         1          0.976923\n",
      "         2          0.926769\n",
      "         3          0.926769\n",
      "         4          0.922923\n",
      "         5          0.922923\n",
      "         6          0.922923\n",
      "         7          0.922923\n",
      "         8          0.922923\n"
     ]
    }
   ],
   "source": [
    "#buscamos profundidad del arbol\n",
    "cv = KFold(n_splits=10) # Numero deseado de \"folds\" que haremos\n",
    "accuracies = list()\n",
    "max_attributes = len(list(data))\n",
    "depth_range = range(1, max_attributes + 1)\n",
    "\n",
    "# Testearemos la profundidad de 1 a cantidad de atributos +1\n",
    "for depth in depth_range:\n",
    "    fold_accuracy = []\n",
    "    tree_model = tree.DecisionTreeClassifier(criterion='entropy',\n",
    "                                             min_samples_split=20,\n",
    "                                             min_samples_leaf=5,\n",
    "                                             max_depth = depth,\n",
    "                                             class_weight={1:6.84})\n",
    "    for train_fold, valid_fold in cv.split(data):\n",
    "        f_train = data.loc[train_fold] \n",
    "        f_valid = data.loc[valid_fold] \n",
    "\n",
    "        model = tree_model.fit(X = f_train.drop(['DESERTOR'], axis=1), \n",
    "                               y = f_train[\"DESERTOR\"]) \n",
    "        valid_acc = model.score(X = f_valid.drop(['DESERTOR'], axis=1), \n",
    "                                y = f_valid[\"DESERTOR\"]) # calculamos la precision con el segmento de validacion\n",
    "        fold_accuracy.append(valid_acc)\n",
    "\n",
    "    avg = sum(fold_accuracy)/len(fold_accuracy)\n",
    "    accuracies.append(avg)\n",
    "    \n",
    "# Mostramos los resultados obtenidos\n",
    "df = pd.DataFrame({\"Max Depth\": depth_range, \"Average Accuracy\": accuracies})\n",
    "df = df[[\"Max Depth\", \"Average Accuracy\"]]\n",
    "print(df.to_string(index=False))"
   ]
  },
  {
   "cell_type": "code",
   "execution_count": 25,
   "metadata": {},
   "outputs": [],
   "source": [
    "#CREACION DE ARBOL\n",
    "# Crear arrays de entrenamiento y las etiquetas que indican si llegó a top o no \n",
    "y_train = data['DESERTOR']\n",
    "x_train = data.drop(['DESERTOR'], axis=1).values \n",
    "\n",
    "# Crear Arbol de decision con profundidad = 4\n",
    "decision_tree = tree.DecisionTreeClassifier(criterion='entropy',\n",
    "                                            min_samples_split=20,\n",
    "                                            min_samples_leaf=5,\n",
    "                                            max_depth = 4,\n",
    "                                            class_weight={1:6.84})\n",
    "decision_tree.fit(x_train, y_train)\n",
    "\n",
    "# exportar el modelo a archivo .dot\n",
    "with open(r\"tree1.dot\", 'w') as f:\n",
    "     f = tree.export_graphviz(decision_tree,\n",
    "                              out_file=f,\n",
    "                              max_depth = 7,\n",
    "                              impurity = True,\n",
    "                              feature_names = list(data.drop(['DESERTOR'], axis=1)),\n",
    "                              class_names = ['No', 'Desertor'],\n",
    "                              rounded = True,\n",
    "                              filled= True )\n",
    "        \n",
    "# Convertir el archivo .dot a png para poder visualizarlo\n",
    "#check_call(['dot','-Tpng','tree1.dot','-o','cleaned_data\\tree1.png'])\n",
    "#PImage(\"tree1.png\")"
   ]
  },
  {
   "cell_type": "code",
   "execution_count": 26,
   "metadata": {},
   "outputs": [
    {
     "name": "stdout",
     "output_type": "stream",
     "text": [
      "92.28\n"
     ]
    }
   ],
   "source": [
    "#PRECISION DEL ARBOL\n",
    "acc_decision_tree = round(decision_tree.score(x_train, y_train) * 100, 2)\n",
    "print(acc_decision_tree)"
   ]
  },
  {
   "cell_type": "code",
   "execution_count": 73,
   "metadata": {},
   "outputs": [
    {
     "data": {
      "text/plain": [
       "D\n",
       "[0]    4\n",
       "[1]    4\n",
       "dtype: int64"
      ]
     },
     "execution_count": 73,
     "metadata": {},
     "output_type": "execute_result"
    }
   ],
   "source": [
    "#TEST\n",
    "\n",
    "\n",
    "list_test=[]\n",
    "\n",
    "def funcionTest(TIPOINGRESO,GENERO,SEMESTRE,ICFES_PUNTAJE,ICFES_TIPO,DESERTOR,CIUDAD,ESTRATO_new):\n",
    "    x_test = pd.DataFrame(columns=('TIPOINGRESO','GENERO','SEMESTRE','ICFES_PUNTAJE','ICFES_TIPO','DESERTOR','CIUDAD','ESTRATO_new'))\n",
    "    x_test.loc[0] = (TIPOINGRESO,GENERO,SEMESTRE,ICFES_PUNTAJE,ICFES_TIPO,DESERTOR,CIUDAD,ESTRATO_new)\n",
    "    y_pred = decision_tree.predict(x_test.drop(['DESERTOR'], axis = 1))\n",
    "    y_proba = decision_tree.predict_proba(x_test.drop(['DESERTOR'], axis = 1))\n",
    "    return str(y_pred)\n",
    "\n",
    "list_test.append(funcionTest(1.0,0.0,8.0,206.0,4,1,0.0,3.0))\n",
    "list_test.append(funcionTest(3.0,0.0,2.0,963.0,4,1,0.0,1.0))\n",
    "list_test.append(funcionTest(1.0,1.0,9.0,215.0,1,1,0.0,1.0))\n",
    "list_test.append(funcionTest(1.0,1.0,9.0,215.0,1,1,0.0,1.0))\n",
    "\n",
    "list_test.append(funcionTest(1.0,1.0,4.0,0.0,4,0,1.0,4.0))\n",
    "list_test.append(funcionTest(1.0,1.0,5.0,0.0,2,0,1.0,5.0))\n",
    "list_test.append(funcionTest(1.0,1.0,4.0,0.0,4,0,1.0,4.0))\n",
    "list_test.append(funcionTest(1.0,0.0,8.0,0.0,4,0,0.0,2.0))\n",
    "\n",
    "\n",
    "lon = len(list_test)\n",
    "\n",
    "df_test = pd.DataFrame(np.array(list_test).reshape(lon,1), columns = list(\"D\"))\n",
    "df_test.groupby('D').size()\n"
   ]
  },
  {
   "cell_type": "code",
   "execution_count": null,
   "metadata": {},
   "outputs": [],
   "source": []
  }
 ],
 "metadata": {
  "kernelspec": {
   "display_name": "Python 2",
   "language": "python",
   "name": "python2"
  },
  "language_info": {
   "codemirror_mode": {
    "name": "ipython",
    "version": 2
   },
   "file_extension": ".py",
   "mimetype": "text/x-python",
   "name": "python",
   "nbconvert_exporter": "python",
   "pygments_lexer": "ipython2",
   "version": "2.7.16"
  }
 },
 "nbformat": 4,
 "nbformat_minor": 2
}
